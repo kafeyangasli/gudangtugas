{
 "cells": [
  {
   "cell_type": "markdown",
   "metadata": {
    "editable": true,
    "slideshow": {
     "slide_type": ""
    },
    "tags": [],
    "vscode": {
     "languageId": "html"
    }
   },
   "source": [
    "<h1 style=\"margin-top: 1em; margin-bottom: 2em; font-size: 42px; text-align: center; text-transform: uppercase; letter-spacing: 1px; background:linear-gradient(270deg, red, orange, yellow, green, cyan, blue, violet); background-size:1400% 1400%; -webkit-background-clip:text; -webkit-text-fill-color:transparent; animation: wobble 1s infinite ease-in-out, slide 8s infinite linear;\">\n",
    "<strong> TUGAS KELOMPOK 1 - METODE RELAKSASI </strong>\n",
    "</h1>\n",
    "\n",
    "<div style=\"font-size: 16px;\">\n",
    "  <p><strong>ANGGOTA KELOMPOK:</strong></p>\n",
    "  <ol style=\"margin-top: 0em;\">\n",
    "    <li>Haydar Rafi' Sultansyah &emsp;&emsp;&emsp;&emsp; (24060124120027)</li>\n",
    "    <li>Jordan Tenggara &emsp;&emsp;&emsp;&emsp;&emsp;&emsp;&emsp; (24060124120044)</li>\n",
    "    <li>Maulana Ghazzam Adil Al Faiq &emsp; (24060124130083)</li>\n",
    "  </ol>\n",
    "</div>\n",
    "\n",
    "<style>@keyframes wobble{0%,100%{transform:rotate(0deg);}25%{transform:rotate(360deg);}75%{transform:rotate(-360deg);}}@keyframes slide{0%{background-position:0% 50%;}50%{background-position:100% 50%;}100%{background-position:0% 50%;}}</style>\n"
   ]
  },
  {
   "cell_type": "markdown",
   "metadata": {
    "editable": true,
    "slideshow": {
     "slide_type": ""
    },
    "tags": []
   },
   "source": [
    "<h2 style=\"text-align: left; text-transform: uppercase; letter-spacing: 1px;\">\n",
    "  <strong> Kisah Sistem Persamaan Linear </strong>\n",
    "</h2>\n",
    "<p style=\"text-align: justify; margin-right: 3em; line-height: 1.5;\">\n",
    "&emsp;&emsp;Di masa depan, negara Donevall terancam akan bubar setelah Perdana Menteri Jacobi kembali mengsahkan kebijakan kontroversial untuk keenam kalinya. Meski sudah diprotes oleh warga Donevall berkali-kali dan bahkan diancam dengan mosi tidak percaya oleh beberapa anggota parlemen lain, Perdana Menteri Jacobi menganggap remeh semua itu, karena dia memiliki kemampuan khusus, yakni teknik manipulasi yang ia kuasai dengan sangat mahir sejak ia masuk dalam ranah sipil. <br>\n",
    "&emsp;&emsp;Perdana Menteri Jacobi, dengan keahlian tersebut, mendirikan sebuah organisasi <i>underground</i> bernama <i>Jacobi's Communications Central</i>, yang ia abreviasi menjadi JCC. Organisasi inilah yang menjadi tulang belakang karirnya sebagai Perdana Menteri, karena JCC bertugas sebagai pelindung Perdana Menteri Jacobi sekaligus penghancur oposisinya. Metode yang digunakan pun beragam, dari sekedar rumor perselingkuhan, bahkan suatu waktu, membunuh. <br>\n",
    "&emsp;&emsp;Saat ini, JCC akan segera meluncurkan misi yang kesekian kalinya. Namun, terdapat permasalahan. Uang yang tersisa dari National Bank of Donevall sudah tersisa sedikit, bahkan tidak mampu membiayai biaya operasional JCC. Personil-personil JCC pun mulai mengancam Perdana Menteri Jacobi, sehingga membuatnya panik. Ia harus mencari cara untuk membiayai biaya operasional JCC serta gaji personilnya. <br>\n",
    "&emsp;&emsp;Sebelum itu, ia perlu menentukan berapa banyak biaya yang dibutuhkan, yang tentu saja membutuhkan proses komputasi. Sayangnya, Perdana Menteri Jacobi dulunya lulus dengan IPK 2.3, sehingga ia sedikit kesulitan ketika menghitung biayanya. Beruntungnya bagi Perdana Menteri Jacobi, ia memiliki tawanan di ruang bawah tanahnya, yaitu anda! Anda berada dibawah kontrol Perdana Menteri Jacobi sejak bulan lalu karena tertangkap membuat\n",
    "foto rekayasa hasil kecerdasan buatan Perdana Menteri Jacobi dengan ajudannya. <br>\n",
    "&emsp;&emsp;Perdana Menteri Jacobi menjamin kebebasan anda jika anda membantunya dalam membuat program untuk menghitung biaya operasional JCC. Anda tahu bahwa itu adalah tipuan belaka, sehingga anda menolak. Namun, Perdana Menteri Jacobi kembali mengancam anda dengan menghancurkan kedai ayam geprek favorit anda, sehingga anda tidak punya pilihan lain selain membantu Perdana Menteri Jacobi.\n",
    "</p>"
   ]
  },
  {
   "cell_type": "markdown",
   "metadata": {},
   "source": [
    "<h2 style=\"text-align: left; text-transform: uppercase; letter-spacing: 1px;\">\n",
    "  <strong> Permasalahan Sistem Persamaan Linear </strong>\n",
    "</h2>\n",
    "<p style=\"text-align: justify; margin-right: 3em; line-height: 1.5;\">\n",
    "&emsp;&emsp;Hingga suatu hari, pekan yang penting akhirnya tiba, yaitu pekan pemilu atau pemilihan umum. Perdana Menteri Jacobi menginstruksikan kepada JCC untuk menyegerakan misinya, yaitu melukiskan hal-hal indah mengenai Perdana Menteri Jacobi dan menggelapkan nama calon perdana menteri lain.<br> \n",
    "&emsp;&emsp;Di suatu ruangan tersembunyi, anggota-anggota JCC berdiskusi tentang bagaimana merealisasikan keinginan Perdana Menteri, yang paling pasti adalah menyediakan tim Garda depan sebanyak-banyaknya agar nama Perdana Menteri Jacobi terjamin dan cukup untuk menyerang calon perdana menteri lain. Di lain sisi, tim Rumor Kreatif tidak begitu diperlukan mengingat warga Donefall sangat mudah diyakinkan. Untuk memastikan kelancaran operasi, tim Danuh Bergal juga harus disiapkan jika diperlukan untuk menghilangkan tokoh penting yang dapat membahayakan kemenangan Perdana Menteri Jacobi. Untuk itu, JCC menyiapkan 10 orang untuk tim Garda Depan, membatasi jumlah anggota tim Rumor Kreatif menjadi 5 orang, dan menyiapkan 2 orang untuk tim Danuh Bergal.<br>"
   ]
  },
  {
   "cell_type": "markdown",
   "metadata": {},
   "source": [
    "<p style=\"text-align: justify; margin-right: 3em; line-height: 1.5;\">\n",
    "&emsp;&emsp;Misi JCC berjalan dengan sempurna dan Perdana Menteri Jacobi kembali mempertahankan tahtanya. Pekan Pemilu berlalu dan Donevall kembali menjalankan aktivitas normalnya. Akan tetapi, kedamaian fiktif itu akan tersobek dengan perlahan.<br>\n",
    "&emsp;&emsp;Mengamati cara naiknya Perdana Menteri Jacobi, tentunya gambaran sederhana mengenai keadaan faktual Donevall dapat kita terka dengan mudah. Semakin terpuruknya Donevall menyebabkan munculnya niat jahat dari negeri negeri yang mengelilingi Donevall untuk mengambil alih kekayaan budaya dan alam yang dimiliki oleh Donevall. <br>\n",
    "&emsp;&emsp;Laporan laporan mengenai munculnya orang-orang mencurigakan di tepi perbatasan negara dan laporan kehilangan data dari Bank Data Donevall akhirnya sampai ke tangan Perdana Menteri Jacobi. Perdana Menteri Jacobi pun langsung memerintahkan JCC untuk menyelesaikan masalah.<br>\n",
    "&emsp;&emsp;Oleh karena itu,  anggota JCC kembali merencanakan strategi untuk mengatasi ancaman asing yang muncul. Mengingat Perdana Menteri Jacobi lebih memilih untuk menembak orang yang salah daripada tidak ada yang tertembak, JCC mengambil tindakan tegas dengan menghadirkan tim Danuh Bergal dalam jumlah besar untuk langsung menghilangkan orang-orang mencurigakan yang muncul di perbatasan negara.<br>\n",
    "&emsp;&emsp;Tim Rumor Kreatif sebagai otak JCC mempunyai tugas yang lebih penting, sehingga jumlahnya lebih banyak daripada tim Danuh Bergal. Memberantas pasukan pasukan cyber yang berusaha mencuri dokumen dokumen penting Donevall dan memulihkan data data Donevall yang hilang di Bank Data Donevall merupakan sebagian dari tugas mereka.<br>\n",
    "&emsp;&emsp;Untuk meminimalisir biaya operasional misi kali ini, Tim Garda Depan hanya memobilisasikan sedikit anggotanya untuk meyakinkan warga bahwa Donevall masih kuat untuk mempertahankan posisinya.<br>\n",
    "&emsp;&emsp;JCC mengirimkan 13 orang terpilih dalam misi ini. Tim Rumor Kreatif,  dengan 7 anggota menjadi tim yang jumlah personelnya paling banyak. Disusul oleh tim Danuh bergal yang terdiri dari 5 orang untuk memberantas individu-individu yang mencurigakan. Sementara itu, meskipun hanya 1 orang dari tim Garda Depan karena perannya yang kurang krusial, jangan pernah remehkan kemampuannya.</p>"
   ]
  },
  {
   "cell_type": "markdown",
   "metadata": {},
   "source": [
    "<p style=\"text-align: justify; margin-right: 3em; line-height: 1.5;\">\n",
    "&emsp;&emsp;Walau operasi kedua kembali berjalan lancar, ternyata JCC melewatkan satu hal. Kurangnya mobilisasi Tim Garda Depan untuk membatasi informasi yang sampai ke telinga warga Donevall menyebabkan suatu reaksi rantai yang sangat kuat. Hilangnya orang-orang di perbatasan secara massal menghadirkan sebuah kehebohan yang tidak dapat disepelekan dan isu sensasional di berbagai media, Tim Garda Depan dengan dana yang sangat sedikit tidak dapat berbuat banyak.<br>\n",
    "&emsp;&emsp;Hal hal tersebut menumbuhkan bibit perlawanan didalam warga Donevall, mereka beranggapan bahwa dengan mudahnya Perdana Menteri Jacobi menghilangkan banyak nyawa, hal mengenaskan tersebut dapat berlaku serupa terhadap warga Donevall sendiri. Warga Donevall mulai mengutarakan aksi demonstrasi untuk meminta Perdana Menteri Jacobi turun. Mereka merasa hidup di bawah pemerintahan Perdana Menteri Jacobi tidak akan merasakan kesejahteraan dan kemakmuran yang dijanjikan melainkan semakin parahnya kegaduhan di negara Donevall.<br>\n",
    "&emsp;&emsp;Perdana Menteri Jacobi yang mendengar bahwa ia didemo oleh warganya sendiri, merasa sangat geram dan melakukan aksi yang lebih gila, yaitu segera memerintahkan JCC untuk menghilangkan semua orang yang terlibat dalam aksi demonstrasi. Dengan waktu yang sangat terbatas, JCC mulai mengerahkan Tim Danuh Bergal sebanyak-banyaknya untuk langsung mengeksekusi para pendemo tersebut dan mengerahkan tim Garda Depan untuk menguasai segala jenis media dan mempertahankan reputasi Perdana Menteri Jacobi yang mengalami guncangan besar.<br> \n",
    "&emsp;&emsp;Dalam operasi ini, Tim Rumor Kreatif juga dimobilisasikan walau sekedar untuk memikirkan apa yang seharusnya dilakukan oleh Perdana Menteri Jacobi untuk mempertahankan kepercayaan warga. Untuk mempertahankan takhta Jacobi, JCC mengerahkan 9 anggota tim Danuh Bergal paling terlatih. Dibantu oleh 6 orang dari tim Garda Depan dan 3 orang dari tim Rumor Kreatif. Pasukan tersebut menjadi perjudian Perdana Menteri Jacobi sebagai upaya terakhir untuk melanggengkan kekuasaannya.<br>\n",
    "&emsp;&emsp;\n",
    "</p>"
   ]
  },
  {
   "cell_type": "markdown",
   "metadata": {},
   "source": [
    "<h2 style=\"text-align: left; text-transform: uppercase; letter-spacing: 1px;\">\n",
    "   <strong>Bentuk Sistem Persamaan Linear</strong> \n",
    "</h2>\n",
    "<strong>Operasi Pertama:</strong>\n",
    "<p style=\"text-align: justify; margin-right: 3em; line-height: 1.5;\">&emsp;&emsp;JCC menyiapkan 10 orang untuk tim Garda Depan, membatasi jumlah anggota tim Rumor Kreatif menjadi 5 orang, dan menyiapkan 2 orang untuk tim Danuh Bergal.</p>\n",
    "\n",
    "<strong>Operasi Kedua:</strong>\n",
    "<p style=\"text-align: justify; margin-right: 3em; line-height: 1.5;\">&emsp;&emsp;JCC mengirimkan 13 orang terpilih dalam misi ini. Tim Rumor Kreatif,  dengan 7 anggota menjadi tim yang jumlah personelnya paling banyak. Disusul oleh tim Danuh bergal yang terdiri dari 5 orang untuk memberantas individu-individu yang mencurigakan. Sementara itu, meskipun hanya 1 orang dari tim Garda Depan karena perannya yang kurang krusial, jangan pernah remehkan kemampuannya.</p>\n",
    "\n",
    "<strong>Operasi Ketiga:</strong>\n",
    "\n",
    "<p style=\"text-align: justify; margin-right: 3em; line-height: 1.5;\">&emsp;&emsp;JCC mengerahkan 9 anggota tim Danuh Bergal paling terlatih. Dibantu oleh 6 orang dari tim Garda Depan dan 3 orang dari tim Rumor Kreatif.</p>\n",
    "\n",
    "<p>Apabila kita misalkan:</p>\n",
    "\n",
    "- $x$ = Gaji tiap personel Tim Garda Depan  \n",
    "- $y$ = Gaji tiap personel Tim Rumor Kreatif  \n",
    "- $z$ = Gaji tiap personel Tim Danuh Bergal  \n",
    "\n",
    "<p>Maka didapatkan Sistem Persamaan Linearnya adalah:</p>\n",
    "\n",
    "$$\n",
    "\\begin{aligned}\n",
    "10x + 5y + 2z &= 75 \\\\\n",
    "x + 7y + 5z &= 101 \\\\\n",
    "6x + 3y + 9z &= 123\n",
    "\\end{aligned}\n",
    "$$\n",
    "\n"
   ]
  },
  {
   "cell_type": "markdown",
   "metadata": {},
   "source": [
    "<h2 style=\"text-align: left; text-transform: uppercase; letter-spacing: 1px;\">\n",
    "   <strong>Penyelesaian SPL Menggunakan Komputer</strong> \n",
    "</h2>\n",
    "\n",
    "<p style=\"text-align: justify; margin-right: 3em; line-height: 1.5;\">\n",
    "   Permasalahan di atas dapat diselesaikan menggunakan metode Successive Over-Relaxation. Dengan bantuan komputer dan bahasa pemrograman Python, proses iterasi akan menjadi lebih cepat dan efisien. \n",
    "\n",
    "   Pertama-tama, akan diimpor modul pembantu yang akan digunakan dalam pembuatan fungsi Successive Over-Relaxation.\n",
    "</p>"
   ]
  },
  {
   "cell_type": "code",
   "execution_count": 123,
   "metadata": {},
   "outputs": [],
   "source": [
    "from sympy.abc import x, y, z       # Modul untuk simbol variabel\n",
    "from sympy import Poly, Eq          # Eq sebagai tanda = dalam persamaan, dan Poly untuk pembantu mencari koefisien setiap variabel\n",
    "from tabulate import tabulate       # Mentabulasikan hasil iterasi agar dapat ditampilkan"
   ]
  },
  {
   "cell_type": "markdown",
   "metadata": {},
   "source": [
    "Setelahnya, permasalahan di atas dapat dituliskan dalam bahasa pemrograman menjadi sebagai berikut:"
   ]
  },
  {
   "cell_type": "code",
   "execution_count": 124,
   "metadata": {},
   "outputs": [],
   "source": [
    "pers_1 = Eq(10*x + 5*y + 2*z, 75)   # Ekuivalen dengan 10x + 5y + 2z = 75\n",
    "pers_2 = Eq(x + 7*y + 5*z, 101)     # Ekuivalen dengan x + 7y + 5z = 101\n",
    "pers_3 = Eq(6*x + 3*y + 9*z, 123)   # Ekuivalen dengan 6x + 3y + 9z = 123"
   ]
  },
  {
   "cell_type": "markdown",
   "metadata": {},
   "source": [
    "<p style=\"text-align: justify; margin-right: 3em; line-height: 1.5;\">Karena modul <i>sympy</i> tidak mendukung pengambilan koefisien untuk persamaan multivariabel, maka akan digunakan fungsi bantuan untuk mendapatkan koefisien dari masing-masing persamaan.</p>"
   ]
  },
  {
   "cell_type": "code",
   "execution_count": 125,
   "metadata": {},
   "outputs": [],
   "source": [
    "## Mensubstitusikan nilai x dengan x^3, y dengan x^2, dan z dengan x agar \n",
    "## fungsi pencarian koefisien dapat bekerja untuk persamaan multivariabel\n",
    "\n",
    "def koefisien(persamaan):\n",
    "   return (Poly(((persamaan.subs(x, x**3)).subs(y, x**2)).subs(z, x)).all_coeffs())[0:3]"
   ]
  },
  {
   "cell_type": "markdown",
   "metadata": {},
   "source": [
    "<p style=\"text-align: justify; margin-right: 3em; line-height: 1.5;\">\n",
    "   Lalu, inisialisasi variabel yang akan digunakan:\n",
    "</p>"
   ]
  },
  {
   "cell_type": "code",
   "execution_count": 126,
   "metadata": {},
   "outputs": [],
   "source": [
    "iterasi = 0                                              # Penunjuk saat ini sudah sampai iterasi keberapa\n",
    "omega = 1                                                # Faktor Relaksasi\n",
    "error = 10 ** (-1)                                       # Galat Toleransi\n",
    "estimate = [0, 0, 0]                                     # Estimasi Nilai Awal (x, y, z)\n",
    "hasil = [[iterasi] + estimate]                           # Inisialisasi tabel hasil komputasi\n",
    "matriks_a = [                                                           \n",
    "   koefisien(pers_1.lhs),                                #  #  #  #  #  #  #  #  #  #  #  #  #  #  #  #  #  #  #  #  #  #  #\n",
    "   koefisien(pers_2.lhs),                                #  Inisialisasi Matriks A yang merupakan koefisien dari persamaan #\n",
    "   koefisien(pers_3.lhs)                                 #  #  #  #  #  #  #  #  #  #  #  #  #  #  #  #  #  #  #  #  #  #  #\n",
    "]   \n",
    "matriks_x = [x, y, z]                                    # Inisialisasi Matriks X yang berisikan variabel (x, y, z)\n",
    "matriks_b = [pers_1.rhs, pers_2.rhs, pers_3.rhs]         # Inisialisasi Matriks B yang merupakan hasil dari persamaan"
   ]
  },
  {
   "cell_type": "markdown",
   "metadata": {},
   "source": [
    "Pertama-tama, persamaan iteratif $x$, $y$, dan $z$ perlu disusun terlebih dahulu. "
   ]
  },
  {
   "cell_type": "code",
   "execution_count": 127,
   "metadata": {},
   "outputs": [],
   "source": [
    "persamaan_baru = [                                       # Menginisialisasi persamaan iterasi Gauss-Seidel\n",
    "   (\n",
    "      1 / matriks_a[i][i]\n",
    "   ) * (\n",
    "      matriks_b[i] \n",
    "      - sum(matriks_a[i][j]*matriks_x[j] for j in range(0, i + 1) if j < i) \n",
    "      - sum(matriks_a[i][j]*matriks_x[j] for j in range(i, 3) if j > i)\n",
    "   ) for i in range(3)\n",
    "]"
   ]
  },
  {
   "cell_type": "markdown",
   "metadata": {},
   "source": [
    "Lalu, iterasi pertama akan dijalankan secara manual untuk membuat kondisi perulangan iterasi selanjutnya."
   ]
  },
  {
   "cell_type": "code",
   "execution_count": 128,
   "metadata": {},
   "outputs": [],
   "source": [
    "### Inisialisasi Iterasi Pertama\n",
    "x1 = persamaan_baru[0].subs(y, hasil[0][2]).subs(z, hasil[0][3]).evalf()\n",
    "y1 = persamaan_baru[1].subs(x, x1).subs(z, hasil[0][3]).evalf()\n",
    "z1 = persamaan_baru[2].subs(x, x1).subs(y, y1).evalf()\n",
    "### Relaksasi Hasil Iterasi Pertama\n",
    "x1 = (1 - omega) * hasil[0][1] + omega * x1\n",
    "y1 = (1 - omega) * hasil[0][2] + omega * y1\n",
    "z1 = (1 - omega) * hasil[0][3] + omega * z1\n",
    "### Masukkan hasil iterasi ke tabel sebagai dokumentasi\n",
    "iterasi += 1\n",
    "hasil.append([iterasi, x1, y1, z1])"
   ]
  },
  {
   "cell_type": "markdown",
   "metadata": {},
   "source": [
    "<p style=\"text-align: justify; margin-right: 3em; line-height: 1.5;\"> Setelah iterasi pertama dilakukan, iterasi berikutnya dapat diotomasisasi menggunakan perulangan $while$ dengan berjalannya perulangan bergantung pada galat selisih antara hasil iterasi sebelum dan sebelumnya. Jika galat dua iterasi $x$, $y$, atau $z$ sebelumnya masih lebih besar dari galat toleransi yang telah ditentukan, maka perulangan akan tetap dilanjutkan."
   ]
  },
  {
   "cell_type": "code",
   "execution_count": 129,
   "metadata": {},
   "outputs": [],
   "source": [
    "while ( abs(hasil[iterasi][1] - hasil[iterasi-1][1]) > error\n",
    "      or abs(hasil[iterasi][2] - hasil[iterasi-1][2]) > error\n",
    "      or abs(hasil[iterasi][3] - hasil[iterasi-1][3]) > error):\n",
    "   ### Iterasi Gauss-Seidel ke-i\n",
    "   xn = persamaan_baru[0].subs(y, hasil[iterasi][2]).subs(z, hasil[iterasi][3]).evalf()\n",
    "   yn = persamaan_baru[1].subs(x, xn).subs(z, hasil[iterasi][3]).evalf()\n",
    "   zn = persamaan_baru[2].subs(x, xn).subs(y, yn).evalf()\n",
    "   ### Relaksasi Hasil Iterasi ke-i\n",
    "   xn = (1 - omega) * hasil[iterasi][1] + omega * xn\n",
    "   yn = (1 - omega) * hasil[iterasi][2] + omega * yn\n",
    "   zn = (1 - omega) * hasil[iterasi][3] + omega * zn\n",
    "   ### Masukkan hasil iterasi ke tabel sebagai dokumentasi\n",
    "   iterasi += 1\n",
    "   hasil.append([iterasi, xn, yn, zn])"
   ]
  },
  {
   "cell_type": "markdown",
   "metadata": {},
   "source": [
    "Setelah galat toleransi tercukupi, maka didapatkan tabel hasil iterasi sebagai berikut:"
   ]
  },
  {
   "cell_type": "code",
   "execution_count": 130,
   "metadata": {},
   "outputs": [
    {
     "data": {
      "text/html": [
       "<table>\n",
       "<thead>\n",
       "<tr><th style=\"text-align: right;\">  i</th><th style=\"text-align: right;\">         x</th><th style=\"text-align: right;\">       y</th><th style=\"text-align: right;\">       z</th></tr>\n",
       "</thead>\n",
       "<tbody>\n",
       "<tr><td style=\"text-align: right;\">  0</td><td style=\"text-align: right;\"> 0        </td><td style=\"text-align: right;\"> 0      </td><td style=\"text-align: right;\"> 0      </td></tr>\n",
       "<tr><td style=\"text-align: right;\">  1</td><td style=\"text-align: right;\"> 7.5      </td><td style=\"text-align: right;\">13.3571 </td><td style=\"text-align: right;\"> 4.21429</td></tr>\n",
       "<tr><td style=\"text-align: right;\">  2</td><td style=\"text-align: right;\">-0.0214286</td><td style=\"text-align: right;\">11.4214 </td><td style=\"text-align: right;\"> 9.87381</td></tr>\n",
       "<tr><td style=\"text-align: right;\">  3</td><td style=\"text-align: right;\">-0.185476 </td><td style=\"text-align: right;\"> 7.40235</td><td style=\"text-align: right;\">11.3229 </td></tr>\n",
       "<tr><td style=\"text-align: right;\">  4</td><td style=\"text-align: right;\"> 1.53425  </td><td style=\"text-align: right;\"> 6.12163</td><td style=\"text-align: right;\">10.6033 </td></tr>\n",
       "<tr><td style=\"text-align: right;\">  5</td><td style=\"text-align: right;\"> 2.31853  </td><td style=\"text-align: right;\"> 6.52358</td><td style=\"text-align: right;\"> 9.94646</td></tr>\n",
       "<tr><td style=\"text-align: right;\">  6</td><td style=\"text-align: right;\"> 2.24892  </td><td style=\"text-align: right;\"> 7.00269</td><td style=\"text-align: right;\"> 9.83316</td></tr>\n",
       "<tr><td style=\"text-align: right;\">  7</td><td style=\"text-align: right;\"> 2.03203  </td><td style=\"text-align: right;\"> 7.1146 </td><td style=\"text-align: right;\"> 9.94045</td></tr>\n",
       "<tr><td style=\"text-align: right;\">  8</td><td style=\"text-align: right;\"> 1.95461  </td><td style=\"text-align: right;\"> 7.04902</td><td style=\"text-align: right;\">10.0139 </td></tr>\n",
       "</tbody>\n",
       "</table>"
      ],
      "text/plain": [
       "'<table>\\n<thead>\\n<tr><th style=\"text-align: right;\">  i</th><th style=\"text-align: right;\">         x</th><th style=\"text-align: right;\">       y</th><th style=\"text-align: right;\">       z</th></tr>\\n</thead>\\n<tbody>\\n<tr><td style=\"text-align: right;\">  0</td><td style=\"text-align: right;\"> 0        </td><td style=\"text-align: right;\"> 0      </td><td style=\"text-align: right;\"> 0      </td></tr>\\n<tr><td style=\"text-align: right;\">  1</td><td style=\"text-align: right;\"> 7.5      </td><td style=\"text-align: right;\">13.3571 </td><td style=\"text-align: right;\"> 4.21429</td></tr>\\n<tr><td style=\"text-align: right;\">  2</td><td style=\"text-align: right;\">-0.0214286</td><td style=\"text-align: right;\">11.4214 </td><td style=\"text-align: right;\"> 9.87381</td></tr>\\n<tr><td style=\"text-align: right;\">  3</td><td style=\"text-align: right;\">-0.185476 </td><td style=\"text-align: right;\"> 7.40235</td><td style=\"text-align: right;\">11.3229 </td></tr>\\n<tr><td style=\"text-align: right;\">  4</td><td style=\"text-align: right;\"> 1.53425  </td><td style=\"text-align: right;\"> 6.12163</td><td style=\"text-align: right;\">10.6033 </td></tr>\\n<tr><td style=\"text-align: right;\">  5</td><td style=\"text-align: right;\"> 2.31853  </td><td style=\"text-align: right;\"> 6.52358</td><td style=\"text-align: right;\"> 9.94646</td></tr>\\n<tr><td style=\"text-align: right;\">  6</td><td style=\"text-align: right;\"> 2.24892  </td><td style=\"text-align: right;\"> 7.00269</td><td style=\"text-align: right;\"> 9.83316</td></tr>\\n<tr><td style=\"text-align: right;\">  7</td><td style=\"text-align: right;\"> 2.03203  </td><td style=\"text-align: right;\"> 7.1146 </td><td style=\"text-align: right;\"> 9.94045</td></tr>\\n<tr><td style=\"text-align: right;\">  8</td><td style=\"text-align: right;\"> 1.95461  </td><td style=\"text-align: right;\"> 7.04902</td><td style=\"text-align: right;\">10.0139 </td></tr>\\n</tbody>\\n</table>'"
      ]
     },
     "execution_count": 130,
     "metadata": {},
     "output_type": "execute_result"
    }
   ],
   "source": [
    "tabulate(hasil, headers=[\"i\", \"x\", \"y\", \"z\"], tablefmt=\"html\")"
   ]
  },
  {
   "cell_type": "markdown",
   "metadata": {},
   "source": [
    "Dan hasil akhir aproksimasi nilai $x$, $y$, dan $z$:"
   ]
  },
  {
   "cell_type": "code",
   "execution_count": 131,
   "metadata": {},
   "outputs": [
    {
     "data": {
      "text/plain": [
       "[1.95461096557216, 7.04901975678438, 10.0139194373571]"
      ]
     },
     "execution_count": 131,
     "metadata": {},
     "output_type": "execute_result"
    }
   ],
   "source": [
    "hasil[-1][1:]"
   ]
  },
  {
   "cell_type": "markdown",
   "metadata": {},
   "source": [
    "<p style=\"text-align: justify; margin-right: 3em; line-height: 1.5;\"> Saat ini, kode diatas masih menggunakan faktor relaksasi ($\\omega$) 1, yang dimana menghasilkan nilai yang serupa apabila dilakukan dengan Metode Gauss-Seidel. Nilai dari faktor relaksasi dapat memengaruhi cepat/lambatnya kekonvergenan komputasi, yang dimana:\n",
    "    <ul>\n",
    "        <li>Jika $\\omega > 1$, maka komputasi akan konvergen lebih cepat</li>\n",
    "        <li>Jika $\\omega < 1$, maka komputasi akan lebih stabil namun konvergen lambat</li>\n",
    "    </ul>"
   ]
  },
  {
   "cell_type": "markdown",
   "metadata": {},
   "source": [
    "<p style=\"text-align: justify; margin-right: 3em; line-height: 1.5;\"> Agar terlihat lebih jelas bagaimana nilai faktor relaksasi memengaruhi kekonvergenan komputasi, akan dilakukan komputasi ulang menggunakan nilai faktor relaksasi yang berbeda-beda. Dan untuk mempersingkat waktu dalam proses komputasi, maka kode diatas akan dikonversikan menjadi sebuah <b>modul</b> agar bisa dipanggil berulang-ulang. Modul yang dihasilkan akan diakses melalui link berikut:"
   ]
  },
  {
   "cell_type": "code",
   "execution_count": 132,
   "metadata": {},
   "outputs": [],
   "source": [
    "link_modul = \"https://kafeyangasli.com/gudangtugas/metode_numerik/Modul_SOR_MetodeNumerik.py\"\n",
    "\n",
    "## Mengimport modul yang telah dibuat\n",
    "import urllib.request\n",
    "urllib.request.urlretrieve(link_modul, \"Modul_SOR_MetodeNumerik.py\")\n",
    "from Modul_SOR_MetodeNumerik import SOR_3P"
   ]
  },
  {
   "cell_type": "markdown",
   "metadata": {},
   "source": [
    "<p style=\"text-align: justify; margin-right: 3em; line-height: 1.5;\"> Sekarang, metode Relaksasi dapat dipanggil menggunakan fungsi SOR_3P yang menerima masukan:</p>\n",
    "<ul>\n",
    "   <li>persamaan_1</li>\n",
    "   <li>persamaan_2</li>\n",
    "   <li>persamaan_3</li>\n",
    "   <li>estimate; yaitu tabel nilai tebakan awal $x$, $y$, dan $z$.</li>\n",
    "   <li>omega; yaitu nilai faktor relaksasi</li>\n",
    "   <li>error; yaitu nilai galat toleransi</li>\n",
    "</ul>"
   ]
  },
  {
   "cell_type": "markdown",
   "metadata": {},
   "source": [
    "<p style=\"text-align: justify; margin-right: 3em; line-height: 1.5;\"> Pertama-tama, lakukan metode over-relaxation dengan nilai $\\omega = 1.25$:"
   ]
  },
  {
   "cell_type": "code",
   "execution_count": 133,
   "metadata": {},
   "outputs": [],
   "source": [
    "omega_over_relaksasi_1 = 1.25\n",
    "hasil_over_relaksasi_1 = SOR_3P(\n",
    "   pers_1 = pers_1,\n",
    "   pers_2 = pers_2,\n",
    "   pers_3 = pers_3,\n",
    "   estimate = estimate,\n",
    "   omega = omega_over_relaksasi_1,\n",
    "   error = error\n",
    ")"
   ]
  },
  {
   "cell_type": "markdown",
   "metadata": {},
   "source": [
    "Tabel iterasi yang dihasilkan adalah sebagai berikut:"
   ]
  },
  {
   "cell_type": "code",
   "execution_count": 134,
   "metadata": {},
   "outputs": [
    {
     "data": {
      "text/html": [
       "<table>\n",
       "<thead>\n",
       "<tr><th style=\"text-align: right;\">  i</th><th style=\"text-align: right;\">       x</th><th style=\"text-align: right;\">       y</th><th style=\"text-align: right;\">       z</th></tr>\n",
       "</thead>\n",
       "<tbody>\n",
       "<tr><td style=\"text-align: right;\">  0</td><td style=\"text-align: right;\"> 0      </td><td style=\"text-align: right;\"> 0      </td><td style=\"text-align: right;\"> 0      </td></tr>\n",
       "<tr><td style=\"text-align: right;\">  1</td><td style=\"text-align: right;\"> 9.375  </td><td style=\"text-align: right;\">16.6964 </td><td style=\"text-align: right;\"> 5.26786</td></tr>\n",
       "<tr><td style=\"text-align: right;\">  2</td><td style=\"text-align: right;\">-4.72098</td><td style=\"text-align: right;\"> 9.49777</td><td style=\"text-align: right;\">12.7939 </td></tr>\n",
       "<tr><td style=\"text-align: right;\">  3</td><td style=\"text-align: right;\"> 1.42067</td><td style=\"text-align: right;\"> 4.2038 </td><td style=\"text-align: right;\">11.5318 </td></tr>\n",
       "<tr><td style=\"text-align: right;\">  4</td><td style=\"text-align: right;\"> 3.5095 </td><td style=\"text-align: right;\"> 6.13639</td><td style=\"text-align: right;\"> 9.22815</td></tr>\n",
       "<tr><td style=\"text-align: right;\">  5</td><td style=\"text-align: right;\"> 2.35534</td><td style=\"text-align: right;\"> 7.80038</td><td style=\"text-align: right;\"> 9.50966</td></tr>\n",
       "<tr><td style=\"text-align: right;\">  6</td><td style=\"text-align: right;\"> 1.53351</td><td style=\"text-align: right;\"> 7.29166</td><td style=\"text-align: right;\">10.2104 </td></tr>\n",
       "<tr><td style=\"text-align: right;\">  7</td><td style=\"text-align: right;\"> 1.88173</td><td style=\"text-align: right;\"> 6.77275</td><td style=\"text-align: right;\">10.1554 </td></tr>\n",
       "<tr><td style=\"text-align: right;\">  8</td><td style=\"text-align: right;\"> 2.13274</td><td style=\"text-align: right;\"> 6.90329</td><td style=\"text-align: right;\"> 9.94353</td></tr>\n",
       "<tr><td style=\"text-align: right;\">  9</td><td style=\"text-align: right;\"> 2.04137</td><td style=\"text-align: right;\"> 7.06394</td><td style=\"text-align: right;\"> 9.95116</td></tr>\n",
       "<tr><td style=\"text-align: right;\"> 10</td><td style=\"text-align: right;\"> 1.9619 </td><td style=\"text-align: right;\"> 7.03159</td><td style=\"text-align: right;\">10.0149 </td></tr>\n",
       "</tbody>\n",
       "</table>"
      ],
      "text/plain": [
       "'<table>\\n<thead>\\n<tr><th style=\"text-align: right;\">  i</th><th style=\"text-align: right;\">       x</th><th style=\"text-align: right;\">       y</th><th style=\"text-align: right;\">       z</th></tr>\\n</thead>\\n<tbody>\\n<tr><td style=\"text-align: right;\">  0</td><td style=\"text-align: right;\"> 0      </td><td style=\"text-align: right;\"> 0      </td><td style=\"text-align: right;\"> 0      </td></tr>\\n<tr><td style=\"text-align: right;\">  1</td><td style=\"text-align: right;\"> 9.375  </td><td style=\"text-align: right;\">16.6964 </td><td style=\"text-align: right;\"> 5.26786</td></tr>\\n<tr><td style=\"text-align: right;\">  2</td><td style=\"text-align: right;\">-4.72098</td><td style=\"text-align: right;\"> 9.49777</td><td style=\"text-align: right;\">12.7939 </td></tr>\\n<tr><td style=\"text-align: right;\">  3</td><td style=\"text-align: right;\"> 1.42067</td><td style=\"text-align: right;\"> 4.2038 </td><td style=\"text-align: right;\">11.5318 </td></tr>\\n<tr><td style=\"text-align: right;\">  4</td><td style=\"text-align: right;\"> 3.5095 </td><td style=\"text-align: right;\"> 6.13639</td><td style=\"text-align: right;\"> 9.22815</td></tr>\\n<tr><td style=\"text-align: right;\">  5</td><td style=\"text-align: right;\"> 2.35534</td><td style=\"text-align: right;\"> 7.80038</td><td style=\"text-align: right;\"> 9.50966</td></tr>\\n<tr><td style=\"text-align: right;\">  6</td><td style=\"text-align: right;\"> 1.53351</td><td style=\"text-align: right;\"> 7.29166</td><td style=\"text-align: right;\">10.2104 </td></tr>\\n<tr><td style=\"text-align: right;\">  7</td><td style=\"text-align: right;\"> 1.88173</td><td style=\"text-align: right;\"> 6.77275</td><td style=\"text-align: right;\">10.1554 </td></tr>\\n<tr><td style=\"text-align: right;\">  8</td><td style=\"text-align: right;\"> 2.13274</td><td style=\"text-align: right;\"> 6.90329</td><td style=\"text-align: right;\"> 9.94353</td></tr>\\n<tr><td style=\"text-align: right;\">  9</td><td style=\"text-align: right;\"> 2.04137</td><td style=\"text-align: right;\"> 7.06394</td><td style=\"text-align: right;\"> 9.95116</td></tr>\\n<tr><td style=\"text-align: right;\"> 10</td><td style=\"text-align: right;\"> 1.9619 </td><td style=\"text-align: right;\"> 7.03159</td><td style=\"text-align: right;\">10.0149 </td></tr>\\n</tbody>\\n</table>'"
      ]
     },
     "execution_count": 134,
     "metadata": {},
     "output_type": "execute_result"
    }
   ],
   "source": [
    "hasil_over_relaksasi_1.html_tabit"
   ]
  },
  {
   "cell_type": "markdown",
   "metadata": {},
   "source": [
    "<p style=\"text-align: justify; margin-right: 3em; line-height: 1.5;\"> Dapat dilihat ketika menggunakan faktor relaksasi $\\omega = 1.25$ atau melakukan <i>over-relaxation</i>, justru iterasi pencarian menjadi berlebih dibandingkan menggunakan $\\omega = 1$. Pada kasus ini, jumlah iterasinya mencapai 10 iterasi sebelum akhirnya berhenti. Padahal, metode ini secara teori seharusnya dapat mempercepat konvergensi. Namun, pada kasus ini efeknya justru sebaliknya: nilai-nilai solusi mengalami osilasi sebelum akhirnya menstabilkan diri menuju solusi eksak.\n",
    "\n",
    "<p style=\"text-align: justify; margin-right: 3em; line-height: 1.5;\"> Bagaimana dengan faktor relaksasi yang lain? Misal menggunakan nilai yang mendekati 1: $\\omega = 1.02$"
   ]
  },
  {
   "cell_type": "code",
   "execution_count": 135,
   "metadata": {},
   "outputs": [],
   "source": [
    "omega_over_relaksasi_2 = 1.02\n",
    "hasil_over_relaksasi_2 = SOR_3P(\n",
    "   pers_1 = pers_1,\n",
    "   pers_2 = pers_2,\n",
    "   pers_3 = pers_3,\n",
    "   estimate = estimate,\n",
    "   omega = omega_over_relaksasi_2,\n",
    "   error = error\n",
    ")"
   ]
  },
  {
   "cell_type": "markdown",
   "metadata": {},
   "source": [
    "Tabel iterasi yang dihasilkan adalah sebagai berikut:"
   ]
  },
  {
   "cell_type": "code",
   "execution_count": 136,
   "metadata": {},
   "outputs": [
    {
     "data": {
      "text/html": [
       "<table>\n",
       "<thead>\n",
       "<tr><th style=\"text-align: right;\">  i</th><th style=\"text-align: right;\">        x</th><th style=\"text-align: right;\">       y</th><th style=\"text-align: right;\">       z</th></tr>\n",
       "</thead>\n",
       "<tbody>\n",
       "<tr><td style=\"text-align: right;\">  0</td><td style=\"text-align: right;\"> 0       </td><td style=\"text-align: right;\"> 0      </td><td style=\"text-align: right;\"> 0      </td></tr>\n",
       "<tr><td style=\"text-align: right;\">  1</td><td style=\"text-align: right;\"> 7.65    </td><td style=\"text-align: right;\">13.6243 </td><td style=\"text-align: right;\"> 4.29857</td></tr>\n",
       "<tr><td style=\"text-align: right;\">  2</td><td style=\"text-align: right;\">-0.328294</td><td style=\"text-align: right;\">11.3379 </td><td style=\"text-align: right;\">10.1008 </td></tr>\n",
       "<tr><td style=\"text-align: right;\">  3</td><td style=\"text-align: right;\">-0.186311</td><td style=\"text-align: right;\"> 7.15881</td><td style=\"text-align: right;\">11.4047 </td></tr>\n",
       "<tr><td style=\"text-align: right;\">  4</td><td style=\"text-align: right;\"> 1.67617 </td><td style=\"text-align: right;\"> 6.0259 </td><td style=\"text-align: right;\">10.5406 </td></tr>\n",
       "<tr><td style=\"text-align: right;\">  5</td><td style=\"text-align: right;\"> 2.39299 </td><td style=\"text-align: right;\"> 6.57041</td><td style=\"text-align: right;\"> 9.8812 </td></tr>\n",
       "<tr><td style=\"text-align: right;\">  6</td><td style=\"text-align: right;\"> 2.23546 </td><td style=\"text-align: right;\"> 7.06038</td><td style=\"text-align: right;\"> 9.8229 </td></tr>\n",
       "<tr><td style=\"text-align: right;\">  7</td><td style=\"text-align: right;\"> 2.00062 </td><td style=\"text-align: right;\"> 7.12706</td><td style=\"text-align: right;\"> 9.95723</td></tr>\n",
       "<tr><td style=\"text-align: right;\">  8</td><td style=\"text-align: right;\"> 1.94391 </td><td style=\"text-align: right;\"> 7.03663</td><td style=\"text-align: right;\">10.0252 </td></tr>\n",
       "</tbody>\n",
       "</table>"
      ],
      "text/plain": [
       "'<table>\\n<thead>\\n<tr><th style=\"text-align: right;\">  i</th><th style=\"text-align: right;\">        x</th><th style=\"text-align: right;\">       y</th><th style=\"text-align: right;\">       z</th></tr>\\n</thead>\\n<tbody>\\n<tr><td style=\"text-align: right;\">  0</td><td style=\"text-align: right;\"> 0       </td><td style=\"text-align: right;\"> 0      </td><td style=\"text-align: right;\"> 0      </td></tr>\\n<tr><td style=\"text-align: right;\">  1</td><td style=\"text-align: right;\"> 7.65    </td><td style=\"text-align: right;\">13.6243 </td><td style=\"text-align: right;\"> 4.29857</td></tr>\\n<tr><td style=\"text-align: right;\">  2</td><td style=\"text-align: right;\">-0.328294</td><td style=\"text-align: right;\">11.3379 </td><td style=\"text-align: right;\">10.1008 </td></tr>\\n<tr><td style=\"text-align: right;\">  3</td><td style=\"text-align: right;\">-0.186311</td><td style=\"text-align: right;\"> 7.15881</td><td style=\"text-align: right;\">11.4047 </td></tr>\\n<tr><td style=\"text-align: right;\">  4</td><td style=\"text-align: right;\"> 1.67617 </td><td style=\"text-align: right;\"> 6.0259 </td><td style=\"text-align: right;\">10.5406 </td></tr>\\n<tr><td style=\"text-align: right;\">  5</td><td style=\"text-align: right;\"> 2.39299 </td><td style=\"text-align: right;\"> 6.57041</td><td style=\"text-align: right;\"> 9.8812 </td></tr>\\n<tr><td style=\"text-align: right;\">  6</td><td style=\"text-align: right;\"> 2.23546 </td><td style=\"text-align: right;\"> 7.06038</td><td style=\"text-align: right;\"> 9.8229 </td></tr>\\n<tr><td style=\"text-align: right;\">  7</td><td style=\"text-align: right;\"> 2.00062 </td><td style=\"text-align: right;\"> 7.12706</td><td style=\"text-align: right;\"> 9.95723</td></tr>\\n<tr><td style=\"text-align: right;\">  8</td><td style=\"text-align: right;\"> 1.94391 </td><td style=\"text-align: right;\"> 7.03663</td><td style=\"text-align: right;\">10.0252 </td></tr>\\n</tbody>\\n</table>'"
      ]
     },
     "execution_count": 136,
     "metadata": {},
     "output_type": "execute_result"
    }
   ],
   "source": [
    "hasil_over_relaksasi_2.html_tabit"
   ]
  },
  {
   "cell_type": "markdown",
   "metadata": {},
   "source": [
    "<p style=\"text-align: justify; margin-right: 3em; line-height: 1.5;\"> Dapat dilihat ketika menggunakan nilai $\\omega = 1.02$ didapatkan hasil konvergen dengan iterasi 8 kali. Ketika omega dinaikkan menjadi 1.03 jumlah iterasi justru meningkat menjadi 9. Hal tersebut menunjukkan bahwa $\\omega = 1.02$ berada di sekitar rentang nilai optimal karena menghasilkan jumlah iterasi paling sedikit dibanding nilai omega di sekitarnya. Hal ini menunjukkan bahwa kenaikan nilai tidak selalu mempercepat konvergensi, bahkan justru bisa menyebabkan penurunan efisiensi iterasi. Dengan kata lain, meskipun metode SOR dirancang untuk mempercepat penyelesaian dibanding Gauss-Seidel, pemilihan nilai omega yang tidak tepat justru dapat memberikan hasil yang lebih buruk. Oleh karena itu, penting dilakukan pencarian nilai omega yang optimal melalui uji coba atau analisis terhadap sifat matriks. Dalam kasus ini, $\\omega = 1.02$ terbukti menjadi pilihan yang paling efisien untuk sistem persamaan yang diuji."
   ]
  },
  {
   "cell_type": "markdown",
   "metadata": {},
   "source": [
    "<p style=\"text-align: justify; margin-right: 3em; line-height: 1.5;\"> Sekarang, lakukan metode under-relaxation dengan nilai $\\omega = 0.25$:"
   ]
  },
  {
   "cell_type": "code",
   "execution_count": 137,
   "metadata": {},
   "outputs": [],
   "source": [
    "omega_under_relaksasi_1 = 0.25\n",
    "hasil_under_relaksasi_1 = SOR_3P(\n",
    "   pers_1 = pers_1,\n",
    "   pers_2 = pers_2,\n",
    "   pers_3 = pers_3,\n",
    "   estimate = estimate,\n",
    "   omega = omega_under_relaksasi_1,\n",
    "   error = error\n",
    ")"
   ]
  },
  {
   "cell_type": "markdown",
   "metadata": {},
   "source": [
    "Tabel iterasi yang dihasilkan adalah sebagai berikut:"
   ]
  },
  {
   "cell_type": "code",
   "execution_count": 138,
   "metadata": {},
   "outputs": [
    {
     "data": {
      "text/html": [
       "<table>\n",
       "<thead>\n",
       "<tr><th style=\"text-align: right;\">  i</th><th style=\"text-align: right;\">      x</th><th style=\"text-align: right;\">      y</th><th style=\"text-align: right;\">       z</th></tr>\n",
       "</thead>\n",
       "<tbody>\n",
       "<tr><td style=\"text-align: right;\">  0</td><td style=\"text-align: right;\">0      </td><td style=\"text-align: right;\">0      </td><td style=\"text-align: right;\"> 0      </td></tr>\n",
       "<tr><td style=\"text-align: right;\">  1</td><td style=\"text-align: right;\">1.875  </td><td style=\"text-align: right;\">3.33929</td><td style=\"text-align: right;\"> 1.05357</td></tr>\n",
       "<tr><td style=\"text-align: right;\">  2</td><td style=\"text-align: right;\">2.81116</td><td style=\"text-align: right;\">5.72277</td><td style=\"text-align: right;\"> 2.19747</td></tr>\n",
       "<tr><td style=\"text-align: right;\">  3</td><td style=\"text-align: right;\">3.15815</td><td style=\"text-align: right;\">7.35684</td><td style=\"text-align: right;\"> 3.34333</td></tr>\n",
       "<tr><td style=\"text-align: right;\">  4</td><td style=\"text-align: right;\">3.15684</td><td style=\"text-align: right;\">8.41515</td><td style=\"text-align: right;\"> 4.43284</td></tr>\n",
       "<tr><td style=\"text-align: right;\">  5</td><td style=\"text-align: right;\">2.9691 </td><td style=\"text-align: right;\">9.041  </td><td style=\"text-align: right;\"> 5.43044</td></tr>\n",
       "<tr><td style=\"text-align: right;\">  6</td><td style=\"text-align: right;\">2.70017</td><td style=\"text-align: right;\">9.35055</td><td style=\"text-align: right;\"> 6.31733</td></tr>\n",
       "<tr><td style=\"text-align: right;\">  7</td><td style=\"text-align: right;\">2.41545</td><td style=\"text-align: right;\">9.4362 </td><td style=\"text-align: right;\"> 7.08669</td></tr>\n",
       "<tr><td style=\"text-align: right;\">  8</td><td style=\"text-align: right;\">2.15272</td><td style=\"text-align: right;\">9.37008</td><td style=\"text-align: right;\"> 7.73995</td></tr>\n",
       "<tr><td style=\"text-align: right;\">  9</td><td style=\"text-align: right;\">1.93129</td><td style=\"text-align: right;\">9.20732</td><td style=\"text-align: right;\"> 8.28388</td></tr>\n",
       "<tr><td style=\"text-align: right;\"> 10</td><td style=\"text-align: right;\">1.75835</td><td style=\"text-align: right;\">8.9891 </td><td style=\"text-align: right;\"> 8.72845</td></tr>\n",
       "<tr><td style=\"text-align: right;\"> 11</td><td style=\"text-align: right;\">1.63371</td><td style=\"text-align: right;\">8.74533</td><td style=\"text-align: right;\"> 9.08521</td></tr>\n",
       "<tr><td style=\"text-align: right;\"> 12</td><td style=\"text-align: right;\">1.55285</td><td style=\"text-align: right;\">8.49698</td><td style=\"text-align: right;\"> 9.36619</td></tr>\n",
       "<tr><td style=\"text-align: right;\"> 13</td><td style=\"text-align: right;\">1.50921</td><td style=\"text-align: right;\">8.25812</td><td style=\"text-align: right;\"> 9.58314</td></tr>\n",
       "<tr><td style=\"text-align: right;\"> 14</td><td style=\"text-align: right;\">1.49548</td><td style=\"text-align: right;\">8.03752</td><td style=\"text-align: right;\"> 9.74699</td></tr>\n",
       "<tr><td style=\"text-align: right;\"> 15</td><td style=\"text-align: right;\">1.50457</td><td style=\"text-align: right;\">7.84004</td><td style=\"text-align: right;\"> 9.86764</td></tr>\n",
       "<tr><td style=\"text-align: right;\"> 16</td><td style=\"text-align: right;\">1.53004</td><td style=\"text-align: right;\">7.66772</td><td style=\"text-align: right;\"> 9.95376</td></tr>\n",
       "<tr><td style=\"text-align: right;\"> 17</td><td style=\"text-align: right;\">1.56638</td><td style=\"text-align: right;\">7.52064</td><td style=\"text-align: right;\">10.0128 </td></tr>\n",
       "<tr><td style=\"text-align: right;\"> 18</td><td style=\"text-align: right;\">1.60906</td><td style=\"text-align: right;\">7.39758</td><td style=\"text-align: right;\">10.051  </td></tr>\n",
       "<tr><td style=\"text-align: right;\"> 19</td><td style=\"text-align: right;\">1.65455</td><td style=\"text-align: right;\">7.29654</td><td style=\"text-align: right;\">10.0737 </td></tr>\n",
       "<tr><td style=\"text-align: right;\"> 20</td><td style=\"text-align: right;\">1.70016</td><td style=\"text-align: right;\">7.21507</td><td style=\"text-align: right;\">10.0849 </td></tr>\n",
       "</tbody>\n",
       "</table>"
      ],
      "text/plain": [
       "'<table>\\n<thead>\\n<tr><th style=\"text-align: right;\">  i</th><th style=\"text-align: right;\">      x</th><th style=\"text-align: right;\">      y</th><th style=\"text-align: right;\">       z</th></tr>\\n</thead>\\n<tbody>\\n<tr><td style=\"text-align: right;\">  0</td><td style=\"text-align: right;\">0      </td><td style=\"text-align: right;\">0      </td><td style=\"text-align: right;\"> 0      </td></tr>\\n<tr><td style=\"text-align: right;\">  1</td><td style=\"text-align: right;\">1.875  </td><td style=\"text-align: right;\">3.33929</td><td style=\"text-align: right;\"> 1.05357</td></tr>\\n<tr><td style=\"text-align: right;\">  2</td><td style=\"text-align: right;\">2.81116</td><td style=\"text-align: right;\">5.72277</td><td style=\"text-align: right;\"> 2.19747</td></tr>\\n<tr><td style=\"text-align: right;\">  3</td><td style=\"text-align: right;\">3.15815</td><td style=\"text-align: right;\">7.35684</td><td style=\"text-align: right;\"> 3.34333</td></tr>\\n<tr><td style=\"text-align: right;\">  4</td><td style=\"text-align: right;\">3.15684</td><td style=\"text-align: right;\">8.41515</td><td style=\"text-align: right;\"> 4.43284</td></tr>\\n<tr><td style=\"text-align: right;\">  5</td><td style=\"text-align: right;\">2.9691 </td><td style=\"text-align: right;\">9.041  </td><td style=\"text-align: right;\"> 5.43044</td></tr>\\n<tr><td style=\"text-align: right;\">  6</td><td style=\"text-align: right;\">2.70017</td><td style=\"text-align: right;\">9.35055</td><td style=\"text-align: right;\"> 6.31733</td></tr>\\n<tr><td style=\"text-align: right;\">  7</td><td style=\"text-align: right;\">2.41545</td><td style=\"text-align: right;\">9.4362 </td><td style=\"text-align: right;\"> 7.08669</td></tr>\\n<tr><td style=\"text-align: right;\">  8</td><td style=\"text-align: right;\">2.15272</td><td style=\"text-align: right;\">9.37008</td><td style=\"text-align: right;\"> 7.73995</td></tr>\\n<tr><td style=\"text-align: right;\">  9</td><td style=\"text-align: right;\">1.93129</td><td style=\"text-align: right;\">9.20732</td><td style=\"text-align: right;\"> 8.28388</td></tr>\\n<tr><td style=\"text-align: right;\"> 10</td><td style=\"text-align: right;\">1.75835</td><td style=\"text-align: right;\">8.9891 </td><td style=\"text-align: right;\"> 8.72845</td></tr>\\n<tr><td style=\"text-align: right;\"> 11</td><td style=\"text-align: right;\">1.63371</td><td style=\"text-align: right;\">8.74533</td><td style=\"text-align: right;\"> 9.08521</td></tr>\\n<tr><td style=\"text-align: right;\"> 12</td><td style=\"text-align: right;\">1.55285</td><td style=\"text-align: right;\">8.49698</td><td style=\"text-align: right;\"> 9.36619</td></tr>\\n<tr><td style=\"text-align: right;\"> 13</td><td style=\"text-align: right;\">1.50921</td><td style=\"text-align: right;\">8.25812</td><td style=\"text-align: right;\"> 9.58314</td></tr>\\n<tr><td style=\"text-align: right;\"> 14</td><td style=\"text-align: right;\">1.49548</td><td style=\"text-align: right;\">8.03752</td><td style=\"text-align: right;\"> 9.74699</td></tr>\\n<tr><td style=\"text-align: right;\"> 15</td><td style=\"text-align: right;\">1.50457</td><td style=\"text-align: right;\">7.84004</td><td style=\"text-align: right;\"> 9.86764</td></tr>\\n<tr><td style=\"text-align: right;\"> 16</td><td style=\"text-align: right;\">1.53004</td><td style=\"text-align: right;\">7.66772</td><td style=\"text-align: right;\"> 9.95376</td></tr>\\n<tr><td style=\"text-align: right;\"> 17</td><td style=\"text-align: right;\">1.56638</td><td style=\"text-align: right;\">7.52064</td><td style=\"text-align: right;\">10.0128 </td></tr>\\n<tr><td style=\"text-align: right;\"> 18</td><td style=\"text-align: right;\">1.60906</td><td style=\"text-align: right;\">7.39758</td><td style=\"text-align: right;\">10.051  </td></tr>\\n<tr><td style=\"text-align: right;\"> 19</td><td style=\"text-align: right;\">1.65455</td><td style=\"text-align: right;\">7.29654</td><td style=\"text-align: right;\">10.0737 </td></tr>\\n<tr><td style=\"text-align: right;\"> 20</td><td style=\"text-align: right;\">1.70016</td><td style=\"text-align: right;\">7.21507</td><td style=\"text-align: right;\">10.0849 </td></tr>\\n</tbody>\\n</table>'"
      ]
     },
     "execution_count": 138,
     "metadata": {},
     "output_type": "execute_result"
    }
   ],
   "source": [
    "hasil_under_relaksasi_1.html_tabit"
   ]
  },
  {
   "cell_type": "markdown",
   "metadata": {},
   "source": [
    "<p style=\"text-align: justify; margin-right: 3em; line-height: 1.5;\"> Ketika digunakan nilai $\\omega = 0.25$, jumlah iterasi yang dibutuhkan untuk mencapai konvergensi meningkat hampir dua kali lipat dibandingkan dengan saat $\\omega = 1$, yaitu dari 8 menjadi sekitar 19-20 iterasi. Peningkatan ini terjadi karena $\\omega = 0.25$ berada cukup jauh dari rentang nilai optimal, sehingga proses iterasi menjadi jauh lebih lambat. Secara teori, nilai $\\omega < 1$ merupakan bentuk <i>under-relaxation</i>, di mana pembaruan solusi dilakukan secara lebih konservatif atau berhati-hati. Meskipun pendekatan ini dapat meningkatkan stabilitas, terutama pada sistem yang sulit konvergen, efek sampingnya adalah kecepatan konvergensi yang menurun drastis. Dalam kasus ini, semakin kecil nilai, semakin kecil pula langkah perbaikannya di setiap iterasi, sehingga dibutuhkan lebih banyak iterasi untuk mencapai batas toleransi error yang sama.\n",
    "\n",
    "<p style=\"text-align: justify; margin-right: 3em; line-height: 1.5;\"> Bagaimana dengan faktor relaksasi yang lain? Misal menggunakan nilai yang mendekati 1: $\\omega = 0.97$"
   ]
  },
  {
   "cell_type": "code",
   "execution_count": 139,
   "metadata": {},
   "outputs": [],
   "source": [
    "omega_under_relaksasi_2 = 0.97\n",
    "hasil_under_relaksasi_2 = SOR_3P(\n",
    "   pers_1 = pers_1,\n",
    "   pers_2 = pers_2,\n",
    "   pers_3 = pers_3,\n",
    "   estimate = estimate,\n",
    "   omega = omega_under_relaksasi_2,\n",
    "   error = error\n",
    ")"
   ]
  },
  {
   "cell_type": "markdown",
   "metadata": {},
   "source": [
    "Tabel iterasi yang dihasilkan adalah sebagai berikut:"
   ]
  },
  {
   "cell_type": "code",
   "execution_count": 140,
   "metadata": {},
   "outputs": [
    {
     "data": {
      "text/html": [
       "<table>\n",
       "<thead>\n",
       "<tr><th style=\"text-align: right;\">  i</th><th style=\"text-align: right;\">        x</th><th style=\"text-align: right;\">       y</th><th style=\"text-align: right;\">       z</th></tr>\n",
       "</thead>\n",
       "<tbody>\n",
       "<tr><td style=\"text-align: right;\">  0</td><td style=\"text-align: right;\"> 0       </td><td style=\"text-align: right;\"> 0      </td><td style=\"text-align: right;\"> 0      </td></tr>\n",
       "<tr><td style=\"text-align: right;\">  1</td><td style=\"text-align: right;\"> 7.275   </td><td style=\"text-align: right;\">12.9564 </td><td style=\"text-align: right;\"> 4.08786</td></tr>\n",
       "<tr><td style=\"text-align: right;\">  2</td><td style=\"text-align: right;\"> 0.416338</td><td style=\"text-align: right;\">11.5238 </td><td style=\"text-align: right;\"> 9.53554</td></tr>\n",
       "<tr><td style=\"text-align: right;\">  3</td><td style=\"text-align: right;\">-0.151451</td><td style=\"text-align: right;\"> 7.75808</td><td style=\"text-align: right;\">11.1812 </td></tr>\n",
       "<tr><td style=\"text-align: right;\">  4</td><td style=\"text-align: right;\"> 1.33863 </td><td style=\"text-align: right;\"> 6.28957</td><td style=\"text-align: right;\">10.6777 </td></tr>\n",
       "<tr><td style=\"text-align: right;\">  5</td><td style=\"text-align: right;\"> 2.19324 </td><td style=\"text-align: right;\"> 6.47869</td><td style=\"text-align: right;\">10.0449 </td></tr>\n",
       "<tr><td style=\"text-align: right;\">  6</td><td style=\"text-align: right;\"> 2.24991 </td><td style=\"text-align: right;\"> 6.91835</td><td style=\"text-align: right;\"> 9.86061</td></tr>\n",
       "<tr><td style=\"text-align: right;\">  7</td><td style=\"text-align: right;\"> 2.07414 </td><td style=\"text-align: right;\"> 7.08461</td><td style=\"text-align: right;\"> 9.92237</td></tr>\n",
       "<tr><td style=\"text-align: right;\">  8</td><td style=\"text-align: right;\"> 1.97625 </td><td style=\"text-align: right;\"> 7.06004</td><td style=\"text-align: right;\"> 9.99582</td></tr>\n",
       "</tbody>\n",
       "</table>"
      ],
      "text/plain": [
       "'<table>\\n<thead>\\n<tr><th style=\"text-align: right;\">  i</th><th style=\"text-align: right;\">        x</th><th style=\"text-align: right;\">       y</th><th style=\"text-align: right;\">       z</th></tr>\\n</thead>\\n<tbody>\\n<tr><td style=\"text-align: right;\">  0</td><td style=\"text-align: right;\"> 0       </td><td style=\"text-align: right;\"> 0      </td><td style=\"text-align: right;\"> 0      </td></tr>\\n<tr><td style=\"text-align: right;\">  1</td><td style=\"text-align: right;\"> 7.275   </td><td style=\"text-align: right;\">12.9564 </td><td style=\"text-align: right;\"> 4.08786</td></tr>\\n<tr><td style=\"text-align: right;\">  2</td><td style=\"text-align: right;\"> 0.416338</td><td style=\"text-align: right;\">11.5238 </td><td style=\"text-align: right;\"> 9.53554</td></tr>\\n<tr><td style=\"text-align: right;\">  3</td><td style=\"text-align: right;\">-0.151451</td><td style=\"text-align: right;\"> 7.75808</td><td style=\"text-align: right;\">11.1812 </td></tr>\\n<tr><td style=\"text-align: right;\">  4</td><td style=\"text-align: right;\"> 1.33863 </td><td style=\"text-align: right;\"> 6.28957</td><td style=\"text-align: right;\">10.6777 </td></tr>\\n<tr><td style=\"text-align: right;\">  5</td><td style=\"text-align: right;\"> 2.19324 </td><td style=\"text-align: right;\"> 6.47869</td><td style=\"text-align: right;\">10.0449 </td></tr>\\n<tr><td style=\"text-align: right;\">  6</td><td style=\"text-align: right;\"> 2.24991 </td><td style=\"text-align: right;\"> 6.91835</td><td style=\"text-align: right;\"> 9.86061</td></tr>\\n<tr><td style=\"text-align: right;\">  7</td><td style=\"text-align: right;\"> 2.07414 </td><td style=\"text-align: right;\"> 7.08461</td><td style=\"text-align: right;\"> 9.92237</td></tr>\\n<tr><td style=\"text-align: right;\">  8</td><td style=\"text-align: right;\"> 1.97625 </td><td style=\"text-align: right;\"> 7.06004</td><td style=\"text-align: right;\"> 9.99582</td></tr>\\n</tbody>\\n</table>'"
      ]
     },
     "execution_count": 140,
     "metadata": {},
     "output_type": "execute_result"
    }
   ],
   "source": [
    "hasil_under_relaksasi_2.html_tabit"
   ]
  },
  {
   "cell_type": "markdown",
   "metadata": {},
   "source": [
    "<p style=\"text-align: justify; margin-right: 3em; line-height: 1.5;\"> Ketika digunakan nilai $\\omega = 0.97$, menghasilkan jumlah iterasi minimum yang dibutuhkan yaitu sebanyak 8 iterasi, sama seperti pada metode Gauss-Seidel dan $\\omega = 1.02$. Namun, saat nilai $\\omega$ diturunkan menjadi 0.96, jumlah iterasi meningkat, yang menunjukkan bahwa $\\omega = 0.97$ masih berada dalam batas rentang optimal. Hal ini memperkuat bahwa nilai-nilai omega yang terlalu jauh dari titik optimal baik cenderung menyebabkan peningkatan jumlah iterasi dan menurunkan efisiensi metode. Fenomena ini sekaligus memperlihatkan bagaimana metode SOR sangat dipengaruhi oleh nilai faktor relaksasi. Ketika $\\omega < 1$, metode disebut menggunakan under-relaxation, yaitu pendekatan yang membuat langkah pembaruan solusi lebih hati-hati atau konservatif. Meski lebih stabil, under-relaxation umumnya memperlambat konvergensi.\n"
   ]
  },
  {
   "cell_type": "markdown",
   "metadata": {},
   "source": [
    "<h2 style=\"text-align: left; text-transform: uppercase; letter-spacing: 1px;\">\n",
    "   <strong>Penutup</strong> \n",
    "</h2>\n",
    "\n",
    "\n",
    "<p style=\"text-align: justify; margin-right: 3em; line-height: 1.5;\"> Dari hasil pengujian terhadap berbagai nilai faktor relaksasi  pada metode SOR, dapat disimpulkan bahwa pemilihan nilai  sangat berpengaruh terhadap efisiensi proses iterasi. Nilai $\\omega = 1$ terbukti memberikan hasil yang sama dengan metode Gauss-Seidel, yaitu konvergen dalam 8 iterasi. Nilai $\\omega = 1.25$ dan $\\omega = 0.97$ juga menghasilkan jumlah iterasi yang sama, sehingga dapat dianggap berada di sekitar rentang optimal. Dapat disimpulkan bahwa rentang nilai omega optimalnya adalah $0.97 < \\omega < 1.02$. Sebaliknya, penggunaan nilai yang terlalu besar (over-relaxation), seperti $\\omega = 1.25$, atau terlalu kecil (under-relaxation), seperti $\\omega = 0.25$, justru menyebabkan peningkatan jumlah iterasi secara signifikan. Hal ini menunjukkan bahwa meskipun metode SOR dirancang untuk mempercepat konvergensi, efektivitasnya sangat bergantung pada ketepatan pemilihan nilai $\\omega$. Nilai $\\omega$ yang terlalu jauh dari titik optimal dapat menyebabkan osilasi (<i>overshooting</i>), atau langkah koreksi yang terlalu kecil, yang akhirnya menurunkan efisiensi metode. Oleh karena itu, penting dilakukan pencarian nilai  yang sesuai dengan karakteristik matriks untuk mendapatkan hasil konvergen dengan jumlah iterasi seminimal mungkin.\n"
   ]
  }
 ],
 "metadata": {
  "kernelspec": {
   "display_name": "Python 3 (ipykernel)",
   "language": "python",
   "name": "python3"
  },
  "language_info": {
   "codemirror_mode": {
    "name": "ipython",
    "version": 3
   },
   "file_extension": ".py",
   "mimetype": "text/x-python",
   "name": "python",
   "nbconvert_exporter": "python",
   "pygments_lexer": "ipython3",
   "version": "3.12.5"
  }
 },
 "nbformat": 4,
 "nbformat_minor": 4
}
